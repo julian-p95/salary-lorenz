{
 "cells": [
  {
   "cell_type": "code",
   "execution_count": null,
   "id": "574de333",
   "metadata": {},
   "outputs": [],
   "source": [
    "import pandas as pd\n",
    "import pylab as pl\n",
    "\n",
    "\n",
    "pl.style.use('bmh')\n",
    "pd.options.mode.chained_assignment = None\n",
    "\n",
    "\n",
    "T=pd.read_csv(r'C:\\Users\\julia\\Documents\\python36\\datasource\\data\\revenus_departements.csv')\n",
    "T.head()"
   ]
  },
  {
   "cell_type": "markdown",
   "id": "2e49a642",
   "metadata": {},
   "source": [
    "# Repartition in 77"
   ]
  },
  {
   "cell_type": "code",
   "execution_count": null,
   "id": "6e69d95f",
   "metadata": {},
   "outputs": [],
   "source": [
    "D=T.query('Dept==\"77\"').copy()\n",
    "D"
   ]
  },
  {
   "cell_type": "code",
   "execution_count": null,
   "id": "e3472968",
   "metadata": {},
   "outputs": [],
   "source": []
  },
  {
   "cell_type": "code",
   "execution_count": null,
   "id": "2cd066cb",
   "metadata": {},
   "outputs": [],
   "source": [
    "D=D.shift()\n",
    "D=D.reset_index(drop=True)\n",
    "D.loc[0, :] = ['', '', 0, 0]\n",
    "D"
   ]
  },
  {
   "cell_type": "markdown",
   "id": "f597262f",
   "metadata": {},
   "source": [
    "# Cumulated "
   ]
  },
  {
   "cell_type": "code",
   "execution_count": null,
   "id": "a3204e4e",
   "metadata": {},
   "outputs": [],
   "source": [
    "D['ECC_f'] = D['Foyers'].cumsum()\n",
    "D"
   ]
  },
  {
   "cell_type": "code",
   "execution_count": null,
   "id": "e96cb9df",
   "metadata": {},
   "outputs": [],
   "source": [
    "D['ECC_r']=D['Mas_rev'].cumsum()\n",
    "D"
   ]
  },
  {
   "cell_type": "code",
   "execution_count": null,
   "id": "51dc0f06",
   "metadata": {},
   "outputs": [],
   "source": [
    "Revenus_moyen = D['Mas_rev'] / D['Foyers']\n",
    "Revenus_moyen"
   ]
  },
  {
   "cell_type": "markdown",
   "id": "f0a685e7",
   "metadata": {},
   "source": [
    "# Frequency"
   ]
  },
  {
   "cell_type": "code",
   "execution_count": null,
   "id": "b2446c39",
   "metadata": {},
   "outputs": [],
   "source": [
    "F = D['Foyers'].sum()\n",
    "F"
   ]
  },
  {
   "cell_type": "code",
   "execution_count": null,
   "id": "6b0a3e4e",
   "metadata": {},
   "outputs": [],
   "source": [
    "R = D['Mas_rev'].sum()\n",
    "R"
   ]
  },
  {
   "cell_type": "code",
   "execution_count": null,
   "id": "4a142081",
   "metadata": {},
   "outputs": [],
   "source": [
    "D['FCC_f'] = D['ECC_f'] / F\n",
    "D['FCC_r'] = D['ECC_r'] / R\n",
    "D"
   ]
  },
  {
   "cell_type": "code",
   "execution_count": null,
   "id": "efa306db",
   "metadata": {},
   "outputs": [],
   "source": [
    "import pylab as pl \n",
    "pl.style.use (\"bmh\")\n",
    "\n",
    "D.plot(x ='FCC_f', y = 'FCC_r',\n",
    "\n",
    "        marker ='o',\n",
    "\n",
    "        markerfacecolor = 'red',\n",
    "\n",
    "        color = 'black',\n",
    "        \n",
    "        label = 'Courbe de Lorenz',\n",
    "        \n",
    "        xticks = [k/100 for k in range (0, 110, 10)],\n",
    "\n",
    "        yticks = [k/100 for k in range (0, 110, 10)],\n",
    "\n",
    "        grid = True, figsize = (8, 8))\n",
    "\n",
    "\n",
    "for k in range (8):\n",
    "\n",
    "    pl.text (D. loc [k, 'FCC_f'], D. loc[k, 'FCC_r'],\n",
    "        r'SM_'+str(k)+'$',\n",
    "        va = 'top', ha = 'left',\n",
    "        fontsize = 15)\n",
    "\n",
    "pl.xlabel('FCC Foyers')\n",
    "pl.ylabel('FCC Revenus')\n",
    "pl.legend(loc = 'upper left', fontsize = 14)\n",
    "pl.axhline (y = 0, color = 'gray')\n",
    "pl.axvline (x = 0, color = 'gray')"
   ]
  },
  {
   "cell_type": "code",
   "execution_count": null,
   "id": "0dd68b3c",
   "metadata": {},
   "outputs": [],
   "source": [
    "Revenus_moyen[5]*F/R"
   ]
  },
  {
   "cell_type": "code",
   "execution_count": null,
   "id": "34a452bd",
   "metadata": {},
   "outputs": [],
   "source": [
    "Revenus_moyen * F / R"
   ]
  },
  {
   "cell_type": "markdown",
   "id": "ec0b8212",
   "metadata": {},
   "source": [
    "# Inegality"
   ]
  },
  {
   "cell_type": "code",
   "execution_count": null,
   "id": "0b8e96d3",
   "metadata": {},
   "outputs": [],
   "source": [
    "def trapeze(b, B, h):\n",
    "    return (b + B) / 2 * h"
   ]
  },
  {
   "cell_type": "code",
   "execution_count": null,
   "id": "c857cee2",
   "metadata": {},
   "outputs": [],
   "source": [
    "X = list(D['FCC_f'])\n",
    "Y = list(D['FCC_r'])\n",
    "print('X = ', X, '\\n', 'Y=', Y)"
   ]
  },
  {
   "cell_type": "code",
   "execution_count": null,
   "id": "ece916f8",
   "metadata": {},
   "outputs": [],
   "source": [
    "X[1]-X[0],Y[0],Y[1]"
   ]
  },
  {
   "cell_type": "code",
   "execution_count": null,
   "id": "dcd906a3",
   "metadata": {},
   "outputs": [],
   "source": [
    "X[2]-X[1],Y[1],Y[2]"
   ]
  },
  {
   "cell_type": "code",
   "execution_count": null,
   "id": "10c3ee63",
   "metadata": {},
   "outputs": [],
   "source": [
    "def aire_trapezes(X, Y):\n",
    "    A = 0\n",
    "    for k in range(7):\n",
    "        A = A + trapeze(Y[k], Y[k+1], X[k+1] - X[k])\n",
    "    return A"
   ]
  },
  {
   "cell_type": "code",
   "execution_count": null,
   "id": "adf4915e",
   "metadata": {},
   "outputs": [],
   "source": [
    "def gini(X, Y):\n",
    "    return 1 - 2 * aire_trapezes(X, Y)"
   ]
  },
  {
   "cell_type": "code",
   "execution_count": null,
   "id": "beac6483",
   "metadata": {},
   "outputs": [],
   "source": [
    "gini(D['FCC_f'], D['FCC_r'])"
   ]
  },
  {
   "cell_type": "code",
   "execution_count": null,
   "id": "c68fce69",
   "metadata": {},
   "outputs": [],
   "source": [
    "def GINI(d):\n",
    "    # Sélection des lignes de T associées à d\n",
    "    D = T.query('Dept == @d')\n",
    "    # indexation de la table D\n",
    "    D=D.shift()\n",
    "    D=D.reset_index(drop=True)\n",
    "    D.loc[0, :] = ['','', 0, 0]\n",
    "    # Colonnets des fréquences cumulées\n",
    "    D['FCC_f'] = D['Foyers'].cumsum() / D['Foyers'].sum()\n",
    "    D['FCC_r'] = D['Mas_rev'].cumsum() / D['Mas_rev'].sum()\n",
    "    # Listes des coordonnées de la courbe de Lorenz\n",
    "    x = D['FCC_f']\n",
    "    y = D['FCC_r']\n",
    "    return gini(x, y)"
   ]
  },
  {
   "cell_type": "code",
   "execution_count": null,
   "id": "ed90f670",
   "metadata": {},
   "outputs": [],
   "source": [
    "GINI('77')"
   ]
  },
  {
   "cell_type": "code",
   "execution_count": null,
   "id": "8d2c71b3",
   "metadata": {},
   "outputs": [],
   "source": [
    "GINI('2A')"
   ]
  },
  {
   "cell_type": "code",
   "execution_count": null,
   "id": "ae26de99",
   "metadata": {},
   "outputs": [],
   "source": [
    "import geopandas as gp\n",
    "\n",
    "J=gp.read_file(r'C:\\Users\\julia\\Documents\\python36\\datasource\\data\\departements.json')\n",
    "J.head()"
   ]
  },
  {
   "cell_type": "markdown",
   "id": "dc53ef3f",
   "metadata": {},
   "source": [
    "# Gini Department"
   ]
  },
  {
   "cell_type": "code",
   "execution_count": null,
   "id": "dbcfabc9",
   "metadata": {},
   "outputs": [],
   "source": [
    "metropole = [d for d in J['code'] if '97' not in d]"
   ]
  },
  {
   "cell_type": "code",
   "execution_count": null,
   "id": "cadc3027",
   "metadata": {},
   "outputs": [],
   "source": [
    "M = pd.DataFrame()\n",
    "for d in metropole:\n",
    "    g = round(GINI(d), 3)\n",
    "    M.loc[d,'gini'] = g\n",
    "    \n",
    "    texte = 'Dept ' + d + '<br>' + 'Gini = ' + str(g)\n",
    "    M.loc[d, 'texte'] = texte\n",
    "    \n",
    "M.head()"
   ]
  },
  {
   "cell_type": "code",
   "execution_count": null,
   "id": "4fd470bb",
   "metadata": {},
   "outputs": [],
   "source": [
    "M['tranches'] = pd.qcut(x= M['gini'],\n",
    "                       q =[0, 0.1, 0.25, 0.5, 0.75, 0.9, 1],\n",
    "                       labels = ['m-D1','D1-Q1','Q1-Me','Me-Q3','Q3-D9','D9-M']\n",
    "                    \n",
    "                       )\n",
    "M.head()"
   ]
  },
  {
   "cell_type": "code",
   "execution_count": null,
   "id": "1d444b3f",
   "metadata": {},
   "outputs": [],
   "source": [
    "M.sort_values('gini', inplace = True)\n",
    "M.head()"
   ]
  },
  {
   "cell_type": "code",
   "execution_count": null,
   "id": "491393c7",
   "metadata": {},
   "outputs": [],
   "source": [
    "M.index"
   ]
  },
  {
   "cell_type": "code",
   "execution_count": null,
   "id": "6c6ecc21",
   "metadata": {},
   "outputs": [],
   "source": [
    "import plotly.express as px\n",
    "\n",
    "fig = px.choropleth(\n",
    "    data_frame = M,\n",
    "    locations = M.index,\n",
    "    geojson=J,\n",
    "    featureidkey='properties.code',\n",
    "    color=M['tranches'],\n",
    "    hover_name=M['texte'],\n",
    "    color_discrete_sequence=['darkgreen', 'green', 'yellowgreen', 'coral', 'red', 'black'],\n",
    "    projection='orthographic'\n",
    "                )\n",
    "\n",
    "fig.update_geos(fitbounds=\"locations\", visible=False)\n",
    "\n",
    "fig.update_layout(\n",
    "    margin={'r': 0, 't': 0, 'l': 0, 'b': 0},\n",
    "    font={'family': 'Arial', 'size': 14, 'color': 'black'\n",
    "         },\n",
    "    \n",
    "    legend={'x': 0.1,\n",
    "            'y': 0.4, \n",
    "            'title': 'Indice de Gini',\n",
    "            'bordercolor' :'gray',\n",
    "            'font' : {'family': 'comic sans MS', 'size': 14},\n",
    "            'borderwidth' : 2,\n",
    "            'traceorder' :'reversed'\n",
    "            },\n",
    "    width=700,\n",
    "    title={'text': \"<b>Indices de Gini des revenus de 2017</b>\",\n",
    "           'font': {'family': 'comic sans MS', 'color': 'black'},\n",
    "           'y': 0.95,\n",
    "          }\n",
    ")\n",
    "fig.show()"
   ]
  },
  {
   "cell_type": "code",
   "execution_count": null,
   "id": "7550ef4e",
   "metadata": {},
   "outputs": [],
   "source": []
  },
  {
   "cell_type": "code",
   "execution_count": null,
   "id": "c621e75c",
   "metadata": {},
   "outputs": [],
   "source": []
  },
  {
   "cell_type": "code",
   "execution_count": null,
   "id": "7f47b5b3",
   "metadata": {},
   "outputs": [],
   "source": []
  },
  {
   "cell_type": "code",
   "execution_count": null,
   "id": "2ff45977",
   "metadata": {},
   "outputs": [],
   "source": []
  }
 ],
 "metadata": {
  "kernelspec": {
   "display_name": "Python 3 (ipykernel)",
   "language": "python",
   "name": "python3"
  },
  "language_info": {
   "codemirror_mode": {
    "name": "ipython",
    "version": 3
   },
   "file_extension": ".py",
   "mimetype": "text/x-python",
   "name": "python",
   "nbconvert_exporter": "python",
   "pygments_lexer": "ipython3",
   "version": "3.9.16"
  }
 },
 "nbformat": 4,
 "nbformat_minor": 5
}
